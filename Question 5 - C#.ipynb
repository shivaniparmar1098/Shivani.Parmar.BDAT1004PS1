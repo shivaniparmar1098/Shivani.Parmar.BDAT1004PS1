{
 "cells": [
  {
   "cell_type": "code",
   "execution_count": 1,
   "id": "ba2a4b8f",
   "metadata": {},
   "outputs": [
    {
     "ename": "Unhandled Exception",
     "evalue": "(4,1): error CS7021: Cannot declare namespace in script code",
     "output_type": "error",
     "traceback": [
      "(4,1): error CS7021: Cannot declare namespace in script code"
     ]
    }
   ],
   "source": [
    "/* Run these program in dotnetfiddle */\n",
    "\n",
    "/* A. Function inside(x,y,x1,y1,x2,y2) that returns True or False for certain points of a rectangle */\n",
    "using System;\n",
    "\n",
    "namespace InsideRectangle\n",
    "{\n",
    "    public class Rectangle\n",
    "    {\n",
    "        public static void Main(string[] args)\n",
    "        {\n",
    "            Console.WriteLine(Inside(1, 1, 0, 0, 2, 3));\n",
    "            Console.WriteLine(Inside(-1, -1, 0, 0, 2, 3));\n",
    "        }\n",
    "\n",
    "        public static bool Inside(double x, double y, double x1, double y1, double x2, double y2)\n",
    "        {\n",
    "            return x >= x1 && x <= x2 && y >= y1 && y <= y2;\n",
    "        }\n",
    "    }\n",
    "}\n",
    "\n",
    "/* Output :\n",
    "   True\n",
    "   False */"
   ]
  },
  {
   "cell_type": "code",
   "execution_count": 2,
   "id": "2b0ae541",
   "metadata": {},
   "outputs": [
    {
     "ename": "Unhandled Exception",
     "evalue": "(4,1): error CS7021: Cannot declare namespace in script code",
     "output_type": "error",
     "traceback": [
      "(4,1): error CS7021: Cannot declare namespace in script code"
     ]
    }
   ],
   "source": [
    "/* Run these program in dotnetfiddle */\n",
    "\n",
    "/* B. function inside() */\n",
    "using System;\n",
    "\n",
    "namespace InsideFunction\n",
    "{\n",
    "    public class Inside\n",
    "    {\n",
    "        public static void Main(string[] args)\n",
    "        {\n",
    "            Console.WriteLine(inside(1, 1, 0.3, 0.5, 1.1, 0.7) && inside(1, 1, 0.5, 0.2, 1.1, 2));\n",
    "        }\n",
    "\n",
    "        public static bool inside(double x, double y, double x1, double y1, double x2, double y2)\n",
    "        {\n",
    "            return x >= x1 && x <= x2 && y >= y1 && y <= y2;\n",
    "        }\n",
    "    }\n",
    "}\n",
    "\n",
    "/* Output : False */"
   ]
  }
 ],
 "metadata": {
  "kernelspec": {
   "display_name": ".NET (C#)",
   "language": "C#",
   "name": ".net-csharp"
  },
  "language_info": {
   "file_extension": ".cs",
   "mimetype": "text/x-csharp",
   "name": "C#",
   "pygments_lexer": "csharp",
   "version": "8.0"
  }
 },
 "nbformat": 4,
 "nbformat_minor": 5
}
