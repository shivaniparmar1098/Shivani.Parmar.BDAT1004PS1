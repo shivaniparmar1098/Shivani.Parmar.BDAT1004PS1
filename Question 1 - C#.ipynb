{
 "cells": [
  {
   "cell_type": "code",
   "execution_count": 1,
   "id": "a21b84af",
   "metadata": {},
   "outputs": [
    {
     "name": "stdout",
     "output_type": "stream",
     "text": [
      "System.Int32\r\n"
     ]
    }
   ],
   "source": [
    "/* Datatype example for 5 */\n",
    "int number = 5;\n",
    "Type data_type = number.GetType();\n",
    "Console.WriteLine(data_type);"
   ]
  },
  {
   "cell_type": "code",
   "execution_count": 2,
   "id": "e6a3251c",
   "metadata": {},
   "outputs": [
    {
     "name": "stdout",
     "output_type": "stream",
     "text": [
      "System.Double\r\n"
     ]
    }
   ],
   "source": [
    "/* Datatype example for 5.0 */\n",
    "double number = 5.0;\n",
    "Type data_type = number.GetType();\n",
    "Console.WriteLine(data_type);"
   ]
  },
  {
   "cell_type": "code",
   "execution_count": 3,
   "id": "2ab24720",
   "metadata": {},
   "outputs": [
    {
     "name": "stdout",
     "output_type": "stream",
     "text": [
      "System.Boolean\r\n"
     ]
    }
   ],
   "source": [
    "/* Datatype example for 5 > 1 */\n",
    "bool result = 5 > 1;\n",
    "Type data_type = result.GetType();\n",
    "Console.WriteLine(data_type);"
   ]
  },
  {
   "cell_type": "code",
   "execution_count": 4,
   "id": "e8d67c8d",
   "metadata": {},
   "outputs": [
    {
     "name": "stdout",
     "output_type": "stream",
     "text": [
      "System.Char\r\n"
     ]
    }
   ],
   "source": [
    "/* Datatype example for '5' */\n",
    "char character = '5';\n",
    "Type data_type = character.GetType();\n",
    "Console.WriteLine(data_type);"
   ]
  },
  {
   "cell_type": "code",
   "execution_count": 5,
   "id": "ccd6cd9e",
   "metadata": {},
   "outputs": [
    {
     "name": "stdout",
     "output_type": "stream",
     "text": [
      "System.Int32\r\n"
     ]
    }
   ],
   "source": [
    "/* Datatype example for 5 * 2 */\n",
    "int result = 5 * 2;\n",
    "Type data_type = result.GetType();\n",
    "Console.WriteLine(data_type);"
   ]
  },
  {
   "cell_type": "code",
   "execution_count": 6,
   "id": "5869aaa8",
   "metadata": {},
   "outputs": [
    {
     "name": "stdout",
     "output_type": "stream",
     "text": [
      "System.Int32\r\n"
     ]
    }
   ],
   "source": [
    "/* Datatype example for '5' * 2 */\n",
    "char character = '5';\n",
    "int number = int.Parse(character.ToString());\n",
    "int result = number * 2;\n",
    "Type data_type = result.GetType();\n",
    "Console.WriteLine(data_type);"
   ]
  },
  {
   "cell_type": "code",
   "execution_count": 7,
   "id": "2a21b0d6",
   "metadata": {},
   "outputs": [
    {
     "name": "stdout",
     "output_type": "stream",
     "text": [
      "System.String\r\n"
     ]
    }
   ],
   "source": [
    "/* Datatype example for '5' + '2' */\n",
    "char char1 = '5';\n",
    "char char2 = '2';\n",
    "string result = string.Concat(char1, char2);\n",
    "Type data_type = result.GetType();\n",
    "Console.WriteLine(data_type);"
   ]
  },
  {
   "cell_type": "code",
   "execution_count": 8,
   "id": "99100bb5",
   "metadata": {},
   "outputs": [
    {
     "name": "stdout",
     "output_type": "stream",
     "text": [
      "System.Double\r\n"
     ]
    }
   ],
   "source": [
    "/* Datatype example for 5 / 2 */\n",
    "double result = 5 / 2;\n",
    "Type data_type = result.GetType();\n",
    "Console.WriteLine(data_type);"
   ]
  },
  {
   "cell_type": "code",
   "execution_count": 9,
   "id": "e3e75552",
   "metadata": {},
   "outputs": [
    {
     "name": "stdout",
     "output_type": "stream",
     "text": [
      "System.Int32\r\n"
     ]
    }
   ],
   "source": [
    "/* Datatype example for 5 % 2 */\n",
    "int result = 5 % 2;\n",
    "Type data_type = result.GetType();\n",
    "Console.WriteLine(data_type);"
   ]
  },
  {
   "cell_type": "code",
   "execution_count": 10,
   "id": "f19e4247",
   "metadata": {},
   "outputs": [
    {
     "name": "stdout",
     "output_type": "stream",
     "text": [
      "System.Int32[]\r\n"
     ]
    }
   ],
   "source": [
    "/* Datatype example for {5, 2, 1} */\n",
    "int[] numbers = {5, 2, 1};\n",
    "Type data_type = numbers.GetType();\n",
    "Console.WriteLine(data_type);"
   ]
  },
  {
   "cell_type": "code",
   "execution_count": 11,
   "id": "67e909c6",
   "metadata": {},
   "outputs": [
    {
     "name": "stdout",
     "output_type": "stream",
     "text": [
      "System.Boolean\r\n"
     ]
    }
   ],
   "source": [
    "/* Datatype example for 5 == 3 */\n",
    "bool result = 5 == 3;\n",
    "Type data_type = result.GetType();\n",
    "Console.WriteLine(data_type);"
   ]
  },
  {
   "cell_type": "code",
   "execution_count": 12,
   "id": "24fbd53d",
   "metadata": {},
   "outputs": [
    {
     "name": "stdout",
     "output_type": "stream",
     "text": [
      "System.Double\r\n"
     ]
    }
   ],
   "source": [
    "/* Datatype example for Pi (the number) */\n",
    "double pi = Math.PI;\n",
    "Type data_type = pi.GetType();\n",
    "Console.WriteLine(data_type);"
   ]
  }
 ],
 "metadata": {
  "kernelspec": {
   "display_name": ".NET (C#)",
   "language": "C#",
   "name": ".net-csharp"
  },
  "language_info": {
   "file_extension": ".cs",
   "mimetype": "text/x-csharp",
   "name": "C#",
   "pygments_lexer": "csharp",
   "version": "8.0"
  }
 },
 "nbformat": 4,
 "nbformat_minor": 5
}
