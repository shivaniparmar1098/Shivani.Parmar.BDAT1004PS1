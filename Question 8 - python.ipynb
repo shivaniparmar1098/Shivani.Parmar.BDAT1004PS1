{
 "cells": [
  {
   "cell_type": "code",
   "execution_count": 3,
   "id": "a0a10eff",
   "metadata": {},
   "outputs": [
    {
     "name": "stdout",
     "output_type": "stream",
     "text": [
      "EUR : 122.96544\n",
      "JPY : 1.241401\n",
      "AUD : 103.45157\n",
      "INR : 1.77643\n"
     ]
    }
   ],
   "source": [
    "# Function curconv() that converts and returns the amount in US dollars\n",
    "def curconv(currency, amount):\n",
    "    with open(\"currencies.txt\") as f:\n",
    "        for line in f:\n",
    "            data = line.strip().split()\n",
    "            if data[0] == currency:\n",
    "                rate = float(data[1])\n",
    "                return amount * rate\n",
    "    return None\n",
    "\n",
    "EUR = curconv('EUR', 100)\n",
    "JPY = curconv('JPY', 100)\n",
    "AUD = curconv('AUD', 100)\n",
    "INR = curconv('INR', 100)\n",
    "\n",
    "print(f\"EUR : {EUR}\")\n",
    "print (f\"JPY : {JPY}\")\n",
    "print(f\"AUD : {AUD}\")\n",
    "print (f\"INR : {INR}\")"
   ]
  }
 ],
 "metadata": {
  "kernelspec": {
   "display_name": "Python 3 (ipykernel)",
   "language": "python",
   "name": "python3"
  },
  "language_info": {
   "codemirror_mode": {
    "name": "ipython",
    "version": 3
   },
   "file_extension": ".py",
   "mimetype": "text/x-python",
   "name": "python",
   "nbconvert_exporter": "python",
   "pygments_lexer": "ipython3",
   "version": "3.9.13"
  }
 },
 "nbformat": 4,
 "nbformat_minor": 5
}
