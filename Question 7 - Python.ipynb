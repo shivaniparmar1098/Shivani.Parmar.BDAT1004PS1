{
 "cells": [
  {
   "cell_type": "code",
   "execution_count": 4,
   "id": "27ed11a8",
   "metadata": {},
   "outputs": [
    {
     "name": "stdout",
     "output_type": "stream",
     "text": [
      "Bloods are: ['AB', 'AB', 'B', 'O', 'A', 'A', 'AB', 'O', 'AB', 'A', 'O', 'O', 'A', 'A', 'A', 'O', 'O', 'O', 'AB', 'O', 'A', 'A', 'A', 'A', 'A', 'AB', 'AB', 'A', 'AB', 'O', 'AB', 'O', 'A', 'O', 'O', 'O', 'AB', 'O', 'AB', 'AB', 'AB', 'A', 'A', 'O']\n",
      "There are 15 patients of blood type A.\n",
      "There is one patient of blood type B.\n",
      "There are 13 patients of blood type AB.\n",
      "There are 15 patients of blood type O.\n",
      "There are no patients of blood type OO.\n"
     ]
    }
   ],
   "source": [
    "# A function bldcount() that reads how many patients there are in each bloodtype\n",
    "def bldcount(name):\n",
    "    blood_count = {'A': 0, 'B': 0, 'AB': 0, 'O': 0, 'OO': 0}\n",
    "    with open(name, 'r') as f:\n",
    "        for line in f:\n",
    "            blood_list = line.split()\n",
    "            print(f\"Bloods are: {blood_list}\")\n",
    "            for blood in blood_list:\n",
    "                blood_count[blood] += 1\n",
    "    for blood, count in blood_count.items():\n",
    "        if count == 0:\n",
    "            print(f\"There are no patients of blood type {blood}.\")\n",
    "        elif count == 1:\n",
    "            print(f\"There is one patient of blood type {blood}.\")\n",
    "        else:\n",
    "            print(f\"There are {count} patients of blood type {blood}.\")\n",
    "\n",
    "bldcount(\"bloodtype1.txt\")"
   ]
  }
 ],
 "metadata": {
  "kernelspec": {
   "display_name": "Python 3 (ipykernel)",
   "language": "python",
   "name": "python3"
  },
  "language_info": {
   "codemirror_mode": {
    "name": "ipython",
    "version": 3
   },
   "file_extension": ".py",
   "mimetype": "text/x-python",
   "name": "python",
   "nbconvert_exporter": "python",
   "pygments_lexer": "ipython3",
   "version": "3.9.13"
  }
 },
 "nbformat": 4,
 "nbformat_minor": 5
}
