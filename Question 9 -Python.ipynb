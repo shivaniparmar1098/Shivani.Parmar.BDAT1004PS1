{
 "cells": [
  {
   "cell_type": "code",
   "execution_count": 1,
   "id": "b670e802",
   "metadata": {},
   "outputs": [
    {
     "name": "stdout",
     "output_type": "stream",
     "text": [
      "Cannot add an integer and a string.\n"
     ]
    }
   ],
   "source": [
    "#Add incompatible variables\n",
    "try:\n",
    "    print(6 + 'a')\n",
    "except TypeError:\n",
    "    print(\"Cannot add an integer and a string.\")"
   ]
  },
  {
   "cell_type": "code",
   "execution_count": 2,
   "id": "a592ad81",
   "metadata": {},
   "outputs": [
    {
     "name": "stdout",
     "output_type": "stream",
     "text": [
      "IndexError: List index out of range\n"
     ]
    }
   ],
   "source": [
    "#List out of Range\n",
    "item_list = [1, 2, 3, 4, 5, 6, 7, 8, 9, 10]\n",
    "try:\n",
    "    item = item_list[11]\n",
    "except IndexError:\n",
    "    print(\"IndexError: List index out of range\")"
   ]
  },
  {
   "cell_type": "code",
   "execution_count": 3,
   "id": "c5a9d367",
   "metadata": {},
   "outputs": [
    {
     "name": "stdout",
     "output_type": "stream",
     "text": [
      "Error: Cannot compute square root of negative number\n"
     ]
    }
   ],
   "source": [
    "#Using out of range values in functions\n",
    "import math\n",
    "\n",
    "try:\n",
    "    result = math.sqrt(-1.0)\n",
    "except ValueError:\n",
    "    print(\"Error: Cannot compute square root of negative number\")"
   ]
  },
  {
   "cell_type": "code",
   "execution_count": 6,
   "id": "6a64b8e1",
   "metadata": {},
   "outputs": [
    {
     "name": "stdout",
     "output_type": "stream",
     "text": [
      "File not found.\n"
     ]
    }
   ],
   "source": [
    "#File not found exception\n",
    "try:\n",
    "    f = open(\"file_not_exist.txt\", \"r\")\n",
    "except FileNotFoundError:\n",
    "    print(\"File not found.\")"
   ]
  }
 ],
 "metadata": {
  "kernelspec": {
   "display_name": "Python 3 (ipykernel)",
   "language": "python",
   "name": "python3"
  },
  "language_info": {
   "codemirror_mode": {
    "name": "ipython",
    "version": 3
   },
   "file_extension": ".py",
   "mimetype": "text/x-python",
   "name": "python",
   "nbconvert_exporter": "python",
   "pygments_lexer": "ipython3",
   "version": "3.9.13"
  }
 },
 "nbformat": 4,
 "nbformat_minor": 5
}
