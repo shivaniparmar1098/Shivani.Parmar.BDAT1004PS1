{
 "cells": [
  {
   "cell_type": "code",
   "execution_count": 1,
   "id": "3d475738",
   "metadata": {},
   "outputs": [
    {
     "name": "stdout",
     "output_type": "stream",
     "text": [
      "34\r\n"
     ]
    }
   ],
   "source": [
    "/* A. How many letters are there in 'Supercalifragilisticexpialidocious'? */\n",
    "string word = \"Supercalifragilisticexpialidocious\";\n",
    "int length = word.Length;\n",
    "Console.WriteLine(length);"
   ]
  },
  {
   "cell_type": "code",
   "execution_count": 2,
   "id": "9f434c79",
   "metadata": {},
   "outputs": [
    {
     "name": "stdout",
     "output_type": "stream",
     "text": [
      "True\r\n"
     ]
    }
   ],
   "source": [
    "/* B. Does 'Supercalifragilisticexpialidocious' contain 'ice' as a substring?*/\n",
    "string word = \"Supercalifragilisticexpialidocious\";\n",
    "bool result = word.Contains(\"ice\");\n",
    "Console.WriteLine(result);"
   ]
  },
  {
   "cell_type": "code",
   "execution_count": 3,
   "id": "1a9c2db9",
   "metadata": {},
   "outputs": [
    {
     "name": "stdout",
     "output_type": "stream",
     "text": [
      "Supercalifragilisticexpialidocious\r\n"
     ]
    }
   ],
   "source": [
    "/* C. Which of the following words is the longest:\n",
    "Supercalifragilisticexpialidocious, Honorificabilitudinitatibus, or\n",
    "Bababadalgharaghtakamminarronnkonn? */\n",
    "string[] words = {\"Supercalifragilisticexpialidocious\", \"Honorificabilitudinitatibus\", \"Bababadalgharaghtakamminarronnkonn\"};\n",
    "string largest = words[0];\n",
    "foreach (string word in words)\n",
    "{\n",
    "    if (word.Length > largest.Length)\n",
    "    {\n",
    "        largest = word;\n",
    "    }\n",
    "}\n",
    "Console.WriteLine(largest);"
   ]
  },
  {
   "cell_type": "code",
   "execution_count": 4,
   "id": "fbd7440f",
   "metadata": {},
   "outputs": [
    {
     "name": "stdout",
     "output_type": "stream",
     "text": [
      "First composer: Bartok\n",
      "Last composer: Buxtehude\n"
     ]
    }
   ],
   "source": [
    "/* D. Which composer comes first in the dictionary: 'Berlioz', 'Borodin', 'Brian',\n",
    "'Bartok', 'Bellini', 'Buxtehude', 'Bernstein'. Which one comes last?*/\n",
    "string[] composers = {\"Berlioz\", \"Borodin\", \"Brian\", \"Bartok\", \"Bellini\", \"Buxtehude\", \"Bernstein\"};\n",
    "Array.Sort(composers);\n",
    "Console.WriteLine(\"First composer: \" + composers[0]);\n",
    "Console.WriteLine(\"Last composer: \" + composers[composers.Length - 1]);"
   ]
  }
 ],
 "metadata": {
  "kernelspec": {
   "display_name": ".NET (C#)",
   "language": "C#",
   "name": ".net-csharp"
  },
  "language_info": {
   "file_extension": ".cs",
   "mimetype": "text/x-csharp",
   "name": "C#",
   "pygments_lexer": "csharp",
   "version": "8.0"
  }
 },
 "nbformat": 4,
 "nbformat_minor": 5
}
