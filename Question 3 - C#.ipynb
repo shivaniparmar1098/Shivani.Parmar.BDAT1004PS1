{
 "cells": [
  {
   "cell_type": "code",
   "execution_count": null,
   "id": "20ff6886",
   "metadata": {},
   "outputs": [],
   "source": [
    "/* Run these program in dotnetfiddle */\n",
    "\n",
    "/* triangleArea(a,b,c) */\n",
    "using System;\n",
    "\n",
    "public class Triangle\n",
    "{\n",
    "    public static void Main(string[] args)\n",
    "    {\n",
    "        Console.WriteLine(triangleArea(2, 2, 2));\n",
    "    }\n",
    "    \n",
    "    public static double triangleArea(double a, double b, double c)\n",
    "    {\n",
    "        double s = (a + b + c) / 2;\n",
    "        double area = Math.Sqrt(s * (s - a) * (s - b) * (s - c));\n",
    "        return area;\n",
    "    }\n",
    "}\n",
    "\n",
    "/* Output = 1.73205080756888 */"
   ]
  }
 ],
 "metadata": {
  "kernelspec": {
   "display_name": ".NET (C#)",
   "language": "C#",
   "name": ".net-csharp"
  },
  "language_info": {
   "file_extension": ".cs",
   "mimetype": "text/x-csharp",
   "name": "C#",
   "pygments_lexer": "csharp",
   "version": "8.0"
  }
 },
 "nbformat": 4,
 "nbformat_minor": 5
}
